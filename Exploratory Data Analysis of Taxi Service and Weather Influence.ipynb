{
 "cells": [
  {
   "cell_type": "markdown",
   "metadata": {},
   "source": [
    "# ¡Hola Francisco!\n",
    "\n",
    "Mi nombre es Ezequiel Ferrario, soy code reviewer en Tripleten y tengo el agrado de revisar el proyecto que entregaste.\n",
    "\n",
    "Para simular la dinámica de un ambiente de trabajo, si veo algún error, en primer instancia solo los señalaré, dándote la oportunidad de encontrarlos y corregirlos por tu cuenta. En un trabajo real, el líder de tu equipo hará una dinámica similar. En caso de que no puedas resolver la tarea, te daré una información más precisa en la próxima revisión.\n",
    "\n",
    "Encontrarás mis comentarios más abajo - **por favor, no los muevas, no los modifiques ni los borres**.\n",
    "\n",
    "¿Cómo lo voy a hacer? Voy a leer detenidamente cada una de las implementaciones que has llevado a cabo para cumplir con lo solicitado. Verás los comentarios de esta forma:\n",
    "\n",
    "<div class=\"alert alert-block alert-success\">\n",
    "<b>Comentario del revisor</b> <a class=\"tocSkip\"></a>\n",
    "\n",
    "Si todo está perfecto.\n",
    "</div>\n",
    "\n",
    "\n",
    "<div class=\"alert alert-block alert-warning\">\n",
    "<b>Comentario del revisor</b> <a class=\"tocSkip\"></a>\n",
    "\n",
    "Si tu código está bien pero se puede mejorar o hay algún detalle que le hace falta. Se aceptan uno o dos comentarios de este tipo en el borrador, pero si hay más, deberá hacer las correcciones. Es como una tarea de prueba al solicitar un trabajo: muchos pequeños errores pueden hacer que un candidato sea rechazado.\n",
    "</div>\n",
    "\n",
    "<div class=\"alert alert-block alert-danger\">\n",
    "\n",
    "<b>Comentario del revisor</b> <a class=\"tocSkip\"></a>\n",
    "\n",
    "Si de pronto hace falta algo o existe algún problema con tu código o conclusiones.\n",
    "</div>\n",
    "\n",
    "Puedes responderme de esta forma:\n",
    "\n",
    "<div class=\"alert alert-block alert-info\">\n",
    "<b>Respuesta del estudiante</b> <a class=\"tocSkip\"></a>\n",
    "\n",
    "Hola, muchas gracias por tus comentarios y la revisión.\n",
    "</div>\n",
    "\n",
    "¡Empecemos!"
   ]
  },
  {
   "cell_type": "markdown",
   "metadata": {},
   "source": [
    "-------------\n",
    "\n",
    "<div class=\"alert alert-block alert-danger\">\n",
    "\n",
    "<b>Comentario general #1</b> <a class=\"tocSkip\"></a>\n",
    "\n",
    "Francisco, realizaste un muy buen proyecto donde abarcaste todas las partes necesarias del mismo y supiste extraer la informacion de cada punto.\n",
    "    \n",
    "Me gusto mucho ver tu crecimiento a nivel codigo ya que tus analisis son muy buenos. \n",
    "    \n",
    "Los graficos estan perfectos pero resta un detalle.\n",
    "    \n",
    "    \n",
    " Te fui marcando algunas cosas para completar el proyecto.\n",
    "  \n",
    "    \n",
    " Espero tus correcciones, saludos.\n",
    "    \n",
    "\n",
    "\n",
    "</div>\n",
    "\n",
    "\n",
    "\n",
    "<div class=\"alert alert-block alert-danger\">\n",
    "\n",
    "<b>Comentario general #2</b> <a class=\"tocSkip\"></a>\n",
    "\n",
    "Francisco has realizado una excelente correccion y el proyecto esta practicamente realizado.\n",
    "    \n",
    "  Asi restarian dos detalles:\n",
    "    \n",
    "  - Realizar la introduccion\n",
    "    \n",
    "   - Tratar los duplicados del dataset 07\n",
    "    \n",
    "  Con eso este buen proyecto quedara aprobado.\n",
    "    \n",
    "  Quedo atento a tu correccion, saludos.\n",
    "</div>\n",
    "\n",
    "\n",
    "\n",
    "<div class=\"alert alert-block alert-success\">\n",
    "\n",
    "<b>Comentario general #3</b> <a class=\"tocSkip\"></a>\n",
    "\n",
    "Francisco, trataste todas las correcciones que quedaban por lo qiue finalizas un excleente proyecto que esta completo y bien realizado en ambos casos (codigo y analisis).\n",
    "\n",
    "Dicho esto, el mismo pasa a estar **aprobado**.\n",
    "\n",
    "Espero que sigas con las mismas energias y tengas mucho exito.\n",
    "\n",
    "Saludos.</div>\n",
    "\n",
    "\n",
    "\n",
    "-------------\n"
   ]
  },
  {
   "cell_type": "markdown",
   "metadata": {},
   "source": [
    "<div class=\"alert alert-block alert-danger\">\n",
    "\n",
    "<b>Comentario del revisor</b> <a class=\"tocSkip\"></a>\n",
    "\n",
    "Hace una tabla de contenidos que este  linkeada a las secciones (al clickear debe llevarnos a esa seccion) de esta menera es mas facil desplazarse.\n",
    "\n",
    "Como consejo, si realizas bien todas las secciones (con su respectivo #) podes generarlo automáticamente desde jupyter lab. Para hacerlo, en la pestaña de herramientas de jupyter lab clickeas en el **botón de los puntos y barras**  (Table of contents) te generara automáticamente una tabla de contenidos linkeable y estética. A la **derecha** del botón \"Validate\"\n",
    "</div>\n",
    "\n",
    "\n",
    "<div class=\"alert alert-block alert-success\">\n",
    "\n",
    "<b>Comentario del revisor #2</b> <a class=\"tocSkip\"></a>\n",
    "\n",
    "Corregido.\n",
    "\n",
    "</div>\n",
    "                                                    \n",
    "<div class=\"alert alert-block alert-danger\">\n",
    "\n",
    "<b>Comentario del revisor</b> <a class=\"tocSkip\"></a>\n",
    "\n",
    "Francisco, recorda realizar una introduccion al proyecto, explicando los objetivos y explicando de que se trata. Esto es muy importante de hacer para asentar las bases del proyecto, ademas de dejar en claro que se busca. A partir de una mirada a la introduccion ya entenderemos que buscamos con el proyecto.</div>\n",
    "\n",
    "\n",
    "<div class=\"alert alert-block alert-danger\">\n",
    "\n",
    "<b>Comentario del revisor #2</b> <a class=\"tocSkip\"></a>\n",
    "\n",
    "Se mantiene la correccion, realiza un introduccion al proyecto en forma markdown.\n",
    "</div>\n",
    "\n",
    "<div class=\"alert alert-block alert-success\">\n",
    "\n",
    "<b>Comentario del revisor #3</b> <a class=\"tocSkip\"></a>\n",
    "\n",
    "Corregido, muy bien.</div>"
   ]
  },
  {
   "cell_type": "markdown",
   "metadata": {},
   "source": [
    "## Introducción al Proyecto de Análisis Exploratorio de Datos\n",
    "\n",
    "Este proyecto se centra en realizar un análisis exploratorio de datos (EDA) de tres conjuntos de datos que reflejan distintos aspectos del servicio de taxis en una ciudad no especificada. El objetivo principal es comprender mejor las operaciones y rendimientos de las compañías de taxis y cómo varían en diferentes barrios, así como explorar la influencia de las condiciones climáticas en la duración de los viajes.\n",
    "\n",
    "Estructura del Proyecto:\n",
    "Carga de Datasets e Importación de Librerías:\n",
    "\n",
    "Importaremos las librerías necesarias para el manejo de datos y la visualización, como Pandas, Matplotlib, y Scipy.\n",
    "Cargaremos tres datasets: uno que contiene información sobre las empresas de taxis y la cantidad de viajes que realizan (df_companies), otro con datos sobre los promedios de viajes por barrio (df_neighborhoods), y un tercer dataset que combina información de los viajes con las condiciones climáticas (df_trips_weather).\n",
    "Exploración Inicial de Datos:\n",
    "\n",
    "Revisaremos los tipos de datos, buscaremos valores nulos y duplicados, y proporcionaremos una descripción estadística inicial de las variables numéricas para obtener una visión general y asegurar que los datos estén listos para un análisis más detallado.\n",
    "Análisis de las Compañías y los Barrios:\n",
    "\n",
    "Identificaremos las 10 principales compañías de taxis en términos de cantidad de viajes.\n",
    "Exploraremos los 10 principales barrios en términos de promedio de viajes finalizados, utilizando visualizaciones para ilustrar los datos y facilitar la comprensión de las tendencias.\n",
    "Análisis de Influencia Climática:\n",
    "\n",
    "Definiremos y realizaremos pruebas de hipótesis para evaluar si las condiciones climáticas afectan la duración de los viajes desde y hacia lugares clave como el aeropuerto. Utilizaremos pruebas estadísticas como la prueba de Levene para la igualdad de varianzas y la prueba t de Student para comparar las medias.\n",
    "Conclusión:\n",
    "\n",
    "Sumarizaremos los hallazgos clave del análisis, proporcionando una visión integral de los factores que influyen en la industria del taxi y recomendaciones basadas en los datos analizados.\n",
    "Este análisis no solo ayudará a las compañías de taxis a optimizar sus operaciones, sino que también proporcionará a los planificadores urbanos y a los responsables de la formulación de políticas información valiosa sobre la movilidad urbana y la influencia del clima en la misma.\n",
    "\n",
    "\n",
    "\n",
    "\n",
    "\n"
   ]
  },
  {
   "cell_type": "markdown",
   "metadata": {},
   "source": [
    "## Análisis Exploratorio de Datos"
   ]
  },
  {
   "cell_type": "markdown",
   "metadata": {},
   "source": [
    "### Importar librerías:"
   ]
  },
  {
   "cell_type": "markdown",
   "metadata": {},
   "source": [
    "<div class=\"alert alert-block alert-danger\">\n",
    "\n",
    "<b>Comentario del revisor</b> <a class=\"tocSkip\"></a>\n",
    "\n",
    "Crea una seccion (Titulo) que se llame Carga de datasets e importacion de librerias (o el titulo que quieras pero que refiera a este punto). Es importante a nivel estructura que quede claro que parte se realizan ambas cosas.</div>\n",
    "\n",
    "\n",
    "<div class=\"alert alert-block alert-success\">\n",
    "\n",
    "<b>Comentario del revisor #2</b> <a class=\"tocSkip\"></a>\n",
    "\n",
    "Corregido.\n",
    "\n",
    "</div>"
   ]
  },
  {
   "cell_type": "code",
   "execution_count": 2,
   "metadata": {},
   "outputs": [],
   "source": [
    "# Importar librerías necesarias\n",
    "import pandas as pd\n",
    "import matplotlib.pyplot as plt\n",
    "from scipy.stats import ttest_ind, levene"
   ]
  },
  {
   "cell_type": "markdown",
   "metadata": {},
   "source": [
    "### Cargar datasets"
   ]
  },
  {
   "cell_type": "code",
   "execution_count": 3,
   "metadata": {},
   "outputs": [],
   "source": [
    "# Cargar los datasets\n",
    "df_companies = pd.read_csv('/datasets/project_sql_result_01.csv')\n",
    "df_neighborhoods = pd.read_csv('/datasets/project_sql_result_04.csv')\n",
    "df_trips_weather = pd.read_csv('/datasets/project_sql_result_07.csv')"
   ]
  },
  {
   "cell_type": "markdown",
   "metadata": {},
   "source": [
    "<div class=\"alert alert-block alert-danger\">\n",
    "\n",
    "<b>Comentario del revisor</b> <a class=\"tocSkip\"></a>\n",
    "\n",
    "Respetando las buenas practicas, dividi las celdas.\n",
    "\n",
    "Una celda dedicala **exclusivamente** para la importacion de la librerias.\n",
    "\n",
    "La otra dedicala para la carga del dataset.</div>\n",
    "\n",
    "\n",
    "<div class=\"alert alert-block alert-success\">\n",
    "\n",
    "<b>Comentario del revisor #2</b> <a class=\"tocSkip\"></a>\n",
    "\n",
    "Corregido.\n",
    "\n",
    "</div>"
   ]
  },
  {
   "cell_type": "markdown",
   "metadata": {},
   "source": [
    "### Estudiar los datos y asegurar tipos correctos:"
   ]
  },
  {
   "cell_type": "markdown",
   "metadata": {},
   "source": [
    "<div class=\"alert alert-block alert-danger\">\n",
    "\n",
    "<b>Comentario del revisor</b> <a class=\"tocSkip\"></a>\n",
    "\n",
    "Crea una seccion (Con #) que haga referencia a la exploracion inicial de datos, asi queda clara cada seccion del proyecto.</div>\n",
    "\n",
    "\n",
    "<div class=\"alert alert-block alert-success\">\n",
    "\n",
    "<b>Comentario del revisor #2</b> <a class=\"tocSkip\"></a>\n",
    "\n",
    "Corregido.\n",
    "\n",
    "</div>"
   ]
  },
  {
   "cell_type": "code",
   "execution_count": 4,
   "metadata": {},
   "outputs": [
    {
     "name": "stdout",
     "output_type": "stream",
     "text": [
      "                      company_name  trips_amount\n",
      "0                        Flash Cab         19558\n",
      "1        Taxi Affiliation Services         11422\n",
      "2                Medallion Leasing         10367\n",
      "3                       Yellow Cab          9888\n",
      "4  Taxi Affiliation Service Yellow          9299\n",
      "company_name    object\n",
      "trips_amount     int64\n",
      "dtype: object\n",
      "  dropoff_location_name  average_trips\n",
      "0                  Loop   10727.466667\n",
      "1           River North    9523.666667\n",
      "2         Streeterville    6664.666667\n",
      "3             West Loop    5163.666667\n",
      "4                O'Hare    2546.900000\n",
      "dropoff_location_name     object\n",
      "average_trips            float64\n",
      "dtype: object\n"
     ]
    }
   ],
   "source": [
    "# Verificar los primeros registros y tipos de datos de las compañías\n",
    "print(df_companies.head())\n",
    "print(df_companies.dtypes)\n",
    "\n",
    "# Verificar los primeros registros y tipos de datos de los barrios\n",
    "print(df_neighborhoods.head())\n",
    "print(df_neighborhoods.dtypes)"
   ]
  },
  {
   "cell_type": "code",
   "execution_count": 5,
   "metadata": {},
   "outputs": [
    {
     "name": "stdout",
     "output_type": "stream",
     "text": [
      "       trips_amount\n",
      "count     64.000000\n",
      "mean    2145.484375\n",
      "std     3812.310186\n",
      "min        2.000000\n",
      "25%       20.750000\n",
      "50%      178.500000\n",
      "75%     2106.500000\n",
      "max    19558.000000\n",
      "       average_trips\n",
      "count      94.000000\n",
      "mean      599.953728\n",
      "std      1714.591098\n",
      "min         1.800000\n",
      "25%        14.266667\n",
      "50%        52.016667\n",
      "75%       298.858333\n",
      "max     10727.466667\n",
      "Duplicados en df_companies: 0\n",
      "Duplicados en df_neighborhoods: 0\n"
     ]
    }
   ],
   "source": [
    "# Obtener una vista general de las variables numéricas\n",
    "print(df_companies.describe())\n",
    "print(df_neighborhoods.describe())\n",
    "\n",
    "# Verificar si hay duplicados\n",
    "print(\"Duplicados en df_companies:\", df_companies.duplicated().sum())\n",
    "print(\"Duplicados en df_neighborhoods:\", df_neighborhoods.duplicated().sum())"
   ]
  },
  {
   "cell_type": "markdown",
   "metadata": {},
   "source": [
    "### Análisis:\n",
    "\n",
    "df_companies: Contiene nombres de compañías y el número de viajes asociados. No hay valores duplicados.\n",
    "\n",
    "df_neighborhoods: Proporciona nombres de barrios y el promedio de viajes finalizados. Tampoco hay duplicados."
   ]
  },
  {
   "cell_type": "markdown",
   "metadata": {},
   "source": [
    "\n",
    "<div class=\"alert alert-block alert-danger\">\n",
    "\n",
    "<b>Comentario del revisor</b> <a class=\"tocSkip\"></a>\n",
    "\n",
    "**Para ambos datasets:**\n",
    "\n",
    "<div class=\"alert alert-block alert-danger\">\n",
    "\n",
    "<b>Comentario del revisor</b> <a class=\"tocSkip\"></a>\n",
    "\n",
    "Recorda utilizar el metodo describe() para una exploracion rapida inicial de aquellas variables numéricas. Siempre es necesario realizarlo ya que de forma rápida tenemos un panorama muy bueno de que nos espera e incluso encontraremos inconsistencias si estas existiencen.\n",
    "Describí al respecto lo que ves. </div>\n",
    "\n",
    "<div class=\"alert alert-block alert-danger\">\n",
    "\n",
    "<b>Comentario del revisor</b> <a class=\"tocSkip\"></a>\n",
    "\n",
    "Verifica si existen duplicados </div>\n",
    "\n",
    "<div class=\"alert alert-block alert-danger\">\n",
    "\n",
    "<b>Comentario del revisor</b> <a class=\"tocSkip\"></a>\n",
    "\n",
    "Deja una descripcion de lo observado en este dataset en cuanto a como se compone, si hay errores o no  (nulos, duplicados, etc) y que informacion nos provee. Este punto es muy importante porque resumiremos con un analisis en **markdown** sobre como esta compuesto el dataset y sus variables mas importante. </div>\n",
    "\n",
    "</div>\n",
    "\n",
    "\n",
    "<div class=\"alert alert-block alert-success\">\n",
    "\n",
    "<b>Comentario del revisor #2</b> <a class=\"tocSkip\"></a>\n",
    "\n",
    "Corregido.\n",
    "\n",
    "</div>\n"
   ]
  },
  {
   "cell_type": "markdown",
   "metadata": {},
   "source": [
    "## Identificar los 10 principales barrios:"
   ]
  },
  {
   "cell_type": "markdown",
   "metadata": {},
   "source": [
    "<div class=\"alert alert-block alert-danger\">\n",
    "\n",
    "<b>Comentario del revisor</b> <a class=\"tocSkip\"></a>\n",
    "\n",
    "Crea una seccion (Con #) que haga referencia a la creacion de graficos del top 10 tanto de barrios como de compañias, esto es importante para la estructura del proyecto ya que asi queda clara cada seccion del mismo.</div>\n",
    "\n",
    "\n",
    "<div class=\"alert alert-block alert-success\">\n",
    "\n",
    "<b>Comentario del revisor #2</b> <a class=\"tocSkip\"></a>\n",
    "\n",
    "Corregido.\n",
    "\n",
    "</div>"
   ]
  },
  {
   "cell_type": "code",
   "execution_count": 6,
   "metadata": {},
   "outputs": [],
   "source": [
    "# Identificar el Top 10 de barrios con mayor promedio de finalizaciones\n",
    "top_neighborhoods = df_neighborhoods.nlargest(10, 'average_trips')"
   ]
  },
  {
   "cell_type": "markdown",
   "metadata": {},
   "source": [
    "## Empresas de taxis y número de viajes:"
   ]
  },
  {
   "cell_type": "code",
   "execution_count": 7,
   "metadata": {},
   "outputs": [
    {
     "data": {
      "image/png": "[encoded data removed]",
      "text/plain": [
       "<Figure size 432x288 with 1 Axes>"
      ]
     },
     "metadata": {
      "needs_background": "light"
     },
     "output_type": "display_data"
    },
    {
     "name": "stdout",
     "output_type": "stream",
     "text": [
      "Top 10 Compañías de Taxis con Mayor Cantidad de Viajes\n",
      "                        company_name  trips_amount\n",
      "0                          Flash Cab         19558\n",
      "1          Taxi Affiliation Services         11422\n",
      "2                  Medallion Leasing         10367\n",
      "3                         Yellow Cab          9888\n",
      "4    Taxi Affiliation Service Yellow          9299\n",
      "5          Chicago Carriage Cab Corp          9181\n",
      "6                       City Service          8448\n",
      "7                           Sun Taxi          7701\n",
      "8          Star North Management LLC          7455\n",
      "9  Blue Ribbon Taxi Association Inc.          5953\n"
     ]
    }
   ],
   "source": [
    "# Ordena por la columna `trips_amount` y selecciona las 10 primeras\n",
    "top_10_companies = df_companies.sort_values(by='trips_amount', ascending=False).head(10)\n",
    "\n",
    "# Crear el gráfico de barras con las 10 compañías más populares\n",
    "top_10_companies.plot.bar(x='company_name', y='trips_amount', title='Viajes por Compañía de Taxi (Top 10)')\n",
    "plt.xticks(rotation=45)\n",
    "plt.xlabel('Nombre de la Compañía')\n",
    "plt.ylabel('Cantidad de Viajes')\n",
    "plt.tight_layout()\n",
    "plt.show()\n",
    "\n",
    "# Imprimir datos para el gráfico de compañías\n",
    "print(\"Top 10 Compañías de Taxis con Mayor Cantidad de Viajes\")\n",
    "print(top_10_companies[['company_name', 'trips_amount']])"
   ]
  },
  {
   "cell_type": "markdown",
   "metadata": {},
   "source": [
    "<div class=\"alert alert-block alert-danger\">\n",
    "\n",
    "<b>Comentario del revisor</b> <a class=\"tocSkip\"></a>\n",
    "\n",
    "Importa `matplotlib` en la celda exclusiva de importacion de liberias.</div>\n",
    "\n",
    "<div class=\"alert alert-block alert-danger\">\n",
    "\n",
    "<b>Comentario del revisor</b> <a class=\"tocSkip\"></a>\n",
    "\n",
    "Grafica el top 10 de compañias para darle un espectro mas amplio al cliente.</div>\n",
    "\n",
    "\n",
    "<div class=\"alert alert-block alert-success\">\n",
    "\n",
    "<b>Comentario del revisor #2</b> <a class=\"tocSkip\"></a>\n",
    "\n",
    "Corregido.\n",
    "\n",
    "</div>"
   ]
  },
  {
   "cell_type": "markdown",
   "metadata": {},
   "source": [
    "Interpretación de las Gráficas\n",
    "Top 10 Compañías de Taxis con Mayor Cantidad de Viajes\n",
    "\n",
    "Flash Cab domina el mercado con un número significativamente más alto de viajes comparado con otras compañías.\n",
    "Taxi Affiliation Services y Medallion Leasing también muestran una fuerte presencia en el mercado, aunque con casi la mitad y un poco menos de los viajes de Flash Cab respectivamente.\n",
    "Yellow Cab y Taxi Affiliation Service Yellow completan el top 5, indicando una competencia moderada pero con una considerable diferencia de viajes respecto a los líderes."
   ]
  },
  {
   "cell_type": "markdown",
   "metadata": {},
   "source": [
    "## Los 10 barrios principales por número de finalizaciones:"
   ]
  },
  {
   "cell_type": "code",
   "execution_count": 8,
   "metadata": {},
   "outputs": [
    {
     "data": {
      "image/png": "[encoded data removed]",
      "text/plain": [
       "<Figure size 432x288 with 1 Axes>"
      ]
     },
     "metadata": {
      "needs_background": "light"
     },
     "output_type": "display_data"
    },
    {
     "name": "stdout",
     "output_type": "stream",
     "text": [
      "\n",
      "Top 10 Barrios con Mayor Promedio de Viajes Finalizados\n",
      "  dropoff_location_name  average_trips\n",
      "0                  Loop   10727.466667\n",
      "1           River North    9523.666667\n",
      "2         Streeterville    6664.666667\n",
      "3             West Loop    5163.666667\n",
      "4                O'Hare    2546.900000\n",
      "5             Lake View    2420.966667\n",
      "6            Grant Park    2068.533333\n",
      "7         Museum Campus    1510.000000\n",
      "8            Gold Coast    1364.233333\n",
      "9    Sheffield & DePaul    1259.766667\n"
     ]
    }
   ],
   "source": [
    "top_neighborhoods.plot.bar(x='dropoff_location_name', y='average_trips', title='Top 10 Barrios por Número de Finalizaciones')\n",
    "plt.show()\n",
    "# Imprimir datos para el gráfico de barrios\n",
    "print(\"\\nTop 10 Barrios con Mayor Promedio de Viajes Finalizados\")\n",
    "print(top_neighborhoods[['dropoff_location_name', 'average_trips']])\n"
   ]
  },
  {
   "cell_type": "markdown",
   "metadata": {},
   "source": [
    "<div class=\"alert alert-block alert-danger\">\n",
    "\n",
    "<b>Comentario del revisor</b> <a class=\"tocSkip\"></a>\n",
    "\n",
    "Grafica el top 10 de compañias para darle un espectro mas amplio al cliente.</div>\n",
    "\n",
    "\n",
    "<div class=\"alert alert-block alert-success\">\n",
    "\n",
    "<b>Comentario del revisor #2</b> <a class=\"tocSkip\"></a>\n",
    "\n",
    "Corregido.\n",
    "\n",
    "</div>"
   ]
  },
  {
   "cell_type": "markdown",
   "metadata": {},
   "source": [
    "# Top 10 Barrios con Mayor Promedio de Viajes Finalizados\n",
    "\n",
    "Loop y River North son los barrios con más actividad, reflejando una alta demanda y posiblemente una densa concentración de atracciones y negocios.\n",
    "Streeterville y West Loop siguen siendo significativos, pero con menos del 70% de los viajes de Loop.\n",
    "Los barrios menos frecuentes como O'Hare y Lake View muestran la diversidad de zonas populares para finalizar viajes en Chicago, con O'Hare siendo un hub importante debido al aeropuerto."
   ]
  },
  {
   "cell_type": "markdown",
   "metadata": {},
   "source": [
    "<div class=\"alert alert-block alert-success\">\n",
    "\n",
    "<b>Comentario del revisor</b> <a class=\"tocSkip\"></a>\n",
    "\n",
    "Buenas conclusiones.</div>"
   ]
  },
  {
   "cell_type": "markdown",
   "metadata": {},
   "source": [
    " ## Prueba de Hipótesis"
   ]
  },
  {
   "cell_type": "markdown",
   "metadata": {},
   "source": [
    "Para investigar cómo las condiciones climáticas afectan la duración de los viajes, definimos la siguiente hipótesis:\n",
    "\n",
    "Hipótesis Nula (H0): La duración promedio de los viajes desde el Loop hasta O'Hare no cambia durante los días lluviosos.\n",
    "Hipótesis Alternativa (H1): La duración promedio de los viajes desde el Loop hasta O'Hare es diferente durante los días lluviosos."
   ]
  },
  {
   "cell_type": "code",
   "execution_count": 9,
   "metadata": {},
   "outputs": [
    {
     "name": "stdout",
     "output_type": "stream",
     "text": [
      "Duplicados después de la limpieza: 0\n"
     ]
    }
   ],
   "source": [
    "# Eliminar duplicados\n",
    "df_trips_weather = df_trips_weather.drop_duplicates()\n",
    "print(\"Duplicados después de la limpieza:\", df_trips_weather.duplicated().sum())"
   ]
  },
  {
   "cell_type": "code",
   "execution_count": 10,
   "metadata": {},
   "outputs": [
    {
     "name": "stdout",
     "output_type": "stream",
     "text": [
      "<class 'pandas.core.frame.DataFrame'>\n",
      "Int64Index: 871 entries, 0 to 1067\n",
      "Data columns (total 3 columns):\n",
      " #   Column              Non-Null Count  Dtype  \n",
      "---  ------              --------------  -----  \n",
      " 0   start_ts            871 non-null    object \n",
      " 1   weather_conditions  871 non-null    object \n",
      " 2   duration_seconds    871 non-null    float64\n",
      "dtypes: float64(1), object(2)\n",
      "memory usage: 27.2+ KB\n",
      "None\n",
      "              start_ts weather_conditions  duration_seconds\n",
      "0  2017-11-25 16:00:00               Good            2410.0\n",
      "1  2017-11-25 14:00:00               Good            1920.0\n",
      "2  2017-11-25 12:00:00               Good            1543.0\n",
      "3  2017-11-04 10:00:00               Good            2512.0\n",
      "4  2017-11-11 07:00:00               Good            1440.0\n",
      "       duration_seconds\n",
      "count        871.000000\n",
      "mean        2096.308840\n",
      "std          782.274717\n",
      "min            0.000000\n",
      "25%         1440.000000\n",
      "50%         2015.000000\n",
      "75%         2584.000000\n",
      "max         7440.000000\n",
      "Duplicados: 0\n"
     ]
    }
   ],
   "source": [
    "# Mostrar información general del dataset\n",
    "print(df_trips_weather.info())\n",
    "\n",
    "# Explorar las primeras filas del dataset\n",
    "print(df_trips_weather.head())\n",
    "\n",
    "# Descripción estadística de las variables numéricas\n",
    "print(df_trips_weather.describe())\n",
    "\n",
    "# Verificación de duplicados\n",
    "print(\"Duplicados:\", df_trips_weather.duplicated().sum())"
   ]
  },
  {
   "cell_type": "markdown",
   "metadata": {},
   "source": [
    "El dataset df_trips_weather contiene registros de viajes que incluyen condiciones climáticas, tiempo de inicio y duración del viaje. Se realizó una revisión inicial para identificar si hay valores nulos o duplicados y entender la distribución de las variables numéricas como la duración de los viajes. No se encontraron duplicados, y los datos parecen consistentes sin anomalías inmediatas, proporcionando una base sólida para realizar pruebas estadísticas y evaluar la hipótesis."
   ]
  },
  {
   "cell_type": "markdown",
   "metadata": {},
   "source": [
    "<div class=\"alert alert-block alert-danger\">\n",
    "\n",
    "<b>Comentario del revisor</b> <a class=\"tocSkip\"></a>\n",
    "\n",
    "Siempre que realizamos test de hipotesis debemos exponer cual es la hipotesis nula y cual la alternativa (con un markdown). Mas alla que lo reealices o no en el codigo.</div>\n",
    "\n",
    "\n",
    "<div class=\"alert alert-block alert-success\">\n",
    "\n",
    "<b>Comentario del revisor #2</b> <a class=\"tocSkip\"></a>\n",
    "\n",
    "Corregido.\n",
    "\n",
    "</div>"
   ]
  },
  {
   "cell_type": "markdown",
   "metadata": {},
   "source": [
    "<div class=\"alert alert-block alert-danger\">\n",
    "\n",
    "<b>Comentario del revisor</b> <a class=\"tocSkip\"></a>\n",
    "\n",
    "Para el dataset `df_trips_weather`:\n",
    "\n",
    "\n",
    "\n",
    "<div class=\"alert alert-block alert-danger\">\n",
    "\n",
    "<b>Comentario del revisor</b> <a class=\"tocSkip\"></a>\n",
    "\n",
    "Falta utilizar el metodo info(), a traves de el extrae informacion importante y dejala reflejado en un analisis de *markdown*.</div>\n",
    "\n",
    "<div class=\"alert alert-block alert-danger\">\n",
    "\n",
    "<b>Comentario del revisor</b> <a class=\"tocSkip\"></a>\n",
    "\n",
    "Explora las primeras filas con el head()</div>\n",
    "\n",
    "<div class=\"alert alert-block alert-danger\">\n",
    "\n",
    "<b>Comentario del revisor</b> <a class=\"tocSkip\"></a>\n",
    "\n",
    "Recorda utilizar el metodo describe() para una exploracion rapida inicial de aquellas variables numéricas. Siempre es necesario realizarlo ya que de forma rápida tenemos un panorama muy bueno de que nos espera e incluso encontraremos inconsistencias si estas existiencen.\n",
    "Describí al respecto lo que ves. </div>\n",
    "\n",
    "<div class=\"alert alert-block alert-danger\">\n",
    "\n",
    "<b>Comentario del revisor</b> <a class=\"tocSkip\"></a>\n",
    "\n",
    "Verifica si existen duplicados </div>\n",
    "\n",
    "<div class=\"alert alert-block alert-danger\">\n",
    "\n",
    "<b>Comentario del revisor</b> <a class=\"tocSkip\"></a>\n",
    "\n",
    "Deja una descripcion de lo observado en este dataset en cuanto a como se compone, si hay errores o no  (nulos, duplicados, etc) y que informacion nos provee. Este punto es muy importante porque resumiremos con un analisis en **markdown** sobre como esta compuesto el dataset y sus variables mas importante. </div>\n",
    "    \n",
    "</div>\n",
    "\n",
    "\n",
    "<div class=\"alert alert-block alert-danger\">\n",
    "\n",
    "<b>Comentario del revisor #2</b> <a class=\"tocSkip\"></a>\n",
    "\n",
    "En este caso afirmas que no se encontraron duplicados cuando hay 197. ¿Que harias al respecto?.\n",
    "</div>\n",
    "\n",
    "<div class=\"alert alert-block alert-success\">\n",
    "\n",
    "<b>Comentario del revisor #3</b> <a class=\"tocSkip\"></a>\n",
    "\n",
    "Corregido.</div>"
   ]
  },
  {
   "cell_type": "code",
   "execution_count": 8,
   "metadata": {},
   "outputs": [
    {
     "name": "stdout",
     "output_type": "stream",
     "text": [
      "Levene p-value: 0.5332038671974493\n",
      "t-test p-value: 6.517970327099473e-12\n"
     ]
    }
   ],
   "source": [
    "# Análisis de varianza con Levene\n",
    "good_weather = df_trips_weather[df_trips_weather['weather_conditions'] == 'Good']['duration_seconds']\n",
    "bad_weather = df_trips_weather[df_trips_weather['weather_conditions'] == 'Bad']['duration_seconds']\n",
    "\n",
    "levene_stat, levene_p = levene(good_weather, bad_weather)\n",
    "print('Levene p-value:', levene_p)\n",
    "\n",
    "# Prueba t de Student\n",
    "equal_var = levene_p > 0.05\n",
    "t_stat, p_value = ttest_ind(good_weather, bad_weather, equal_var=equal_var)\n",
    "print('t-test p-value:', p_value)"
   ]
  },
  {
   "cell_type": "markdown",
   "metadata": {},
   "source": [
    "<div class=\"alert alert-block alert-danger\">\n",
    "\n",
    "<b>Comentario del revisor</b> <a class=\"tocSkip\"></a>\n",
    "\n",
    "Importa `scipy.stats` en la celda exclusiva de importacion de liberias.</div>\n",
    "\n",
    "\n",
    "<div class=\"alert alert-block alert-success\">\n",
    "\n",
    "<b>Comentario del revisor #2</b> <a class=\"tocSkip\"></a>\n",
    "\n",
    "Corregido.\n",
    "\n",
    "</div>"
   ]
  },
  {
   "cell_type": "markdown",
   "metadata": {},
   "source": [
    "<div class=\"alert alert-block alert-danger\">\n",
    "\n",
    "<b>Comentario del revisor</b> <a class=\"tocSkip\"></a>\n",
    "\n",
    "Carga este dataset en la celda correspondiente (La del inicio). Esto es considerado una  buena practica ya que siempre queremos tener al principio todo cargado por si hay que hacer una modificacion en el futuro.</div>\n",
    "\n",
    "\n",
    "<div class=\"alert alert-block alert-success\">\n",
    "\n",
    "<b>Comentario del revisor #2</b> <a class=\"tocSkip\"></a>\n",
    "\n",
    "Corregido.\n",
    "\n",
    "</div>\n",
    "\n",
    "<div class=\"alert alert-block alert-warning\">\n",
    "<b>Comentario del revisor</b> <a class=\"tocSkip\"></a>\n",
    "\n",
    "Simplemente a modo de consejo, cuando realizamos este tipo de prueba, los outliers pueden modificarla. Por lo que generalmente se recomienda tratarlos antes  de realizar la prueba.\n",
    "</div>"
   ]
  },
  {
   "cell_type": "markdown",
   "metadata": {},
   "source": [
    "<div class=\"alert alert-block alert-success\">\n",
    "\n",
    "<b>Comentario del revisor</b> <a class=\"tocSkip\"></a>\n",
    "\n",
    "Excelente prueba estadistica, muy bien utilizado Levene.</div>"
   ]
  },
  {
   "cell_type": "markdown",
   "metadata": {},
   "source": [
    "## Interpretación de resultados:"
   ]
  },
  {
   "cell_type": "markdown",
   "metadata": {},
   "source": [
    "Prueba de Levene: El valor p indica que las varianzas son iguales entre las condiciones climáticas.\n",
    "\n",
    "Prueba t: Hay una diferencia significativa en la duración promedio de los viajes debido al clima."
   ]
  },
  {
   "cell_type": "markdown",
   "metadata": {},
   "source": [
    "## Conclusión"
   ]
  },
  {
   "cell_type": "markdown",
   "metadata": {},
   "source": [
    "El análisis reveló que Flash Cab lidera el mercado de taxis, seguido por Taxi Affiliation Services y Medallion Leasing, que también tienen una fuerte presencia. Loop y River North son los barrios con más finalizaciones de viajes.\n",
    "\n",
    "En cuanto a la hipótesis, la prueba de Levene mostró que las varianzas son iguales entre condiciones climáticas, mientras que la prueba t indicó que las duraciones promedio de los viajes varían significativamente según el clima, confirmando que el mal tiempo afecta la duración de los viajes."
   ]
  },
  {
   "cell_type": "markdown",
   "metadata": {},
   "source": [
    "<div class=\"alert alert-block alert-success\">\n",
    "\n",
    "<b>Comentario del revisor</b> <a class=\"tocSkip\"></a>\n",
    "\n",
    "Muy buena conclusion.</div>"
   ]
  },
  {
   "cell_type": "code",
   "execution_count": null,
   "metadata": {},
   "outputs": [],
   "source": []
  }
 ],
 "metadata": {
  "kernelspec": {
   "display_name": "Python 3 (ipykernel)",
   "language": "python",
   "name": "python3"
  },
  "language_info": {
   "codemirror_mode": {
    "name": "ipython",
    "version": 3
   },
   "file_extension": ".py",
   "mimetype": "text/x-python",
   "name": "python",
   "nbconvert_exporter": "python",
   "pygments_lexer": "ipython3",
   "version": "3.9.19"
  },
  "toc": {
   "base_numbering": 1,
   "nav_menu": {
    "height": "92px",
    "width": "277px"
   },
   "number_sections": true,
   "sideBar": true,
   "skip_h1_title": true,
   "title_cell": "Table of Contents",
   "title_sidebar": "Contents",
   "toc_cell": false,
   "toc_position": {},
   "toc_section_display": true,
   "toc_window_display": true
  }
 },
 "nbformat": 4,
 "nbformat_minor": 2
}
